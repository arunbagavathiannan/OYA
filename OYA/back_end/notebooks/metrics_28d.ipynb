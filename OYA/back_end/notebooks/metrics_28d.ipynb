{
 "cells": [
  {
   "cell_type": "code",
   "execution_count": 6,
   "id": "cead695b",
   "metadata": {},
   "outputs": [],
   "source": [
    "import pandas as pd\n",
    "import matplotlib as mpl\n",
    "import numpy as np\n",
    "import sys"
   ]
  },
  {
   "cell_type": "code",
   "execution_count": 42,
   "id": "43a06ae5",
   "metadata": {},
   "outputs": [
    {
     "name": "stdout",
     "output_type": "stream",
     "text": [
      "          Date  Views\n",
      "0   2025-09-07   3141\n",
      "1   2025-09-08   2276\n",
      "2   2025-09-09   1893\n",
      "3   2025-09-10   1898\n",
      "4   2025-09-11   2020\n",
      "5   2025-09-12   2721\n",
      "6   2025-09-13   3149\n",
      "7   2025-09-14   2146\n",
      "8   2025-09-15   2023\n",
      "9   2025-09-16   2137\n",
      "10  2025-09-17   2811\n",
      "11  2025-09-18   3343\n",
      "12  2025-09-19   2464\n",
      "13  2025-09-20   3361\n",
      "14  2025-09-21   2619\n",
      "15  2025-09-22   2330\n",
      "16  2025-09-23   1880\n",
      "17  2025-09-24   1893\n",
      "18  2025-09-25   1424\n",
      "19  2025-09-26   3268\n",
      "20  2025-09-27   2924\n",
      "21  2025-09-28   2318\n",
      "22  2025-09-29   1877\n",
      "23  2025-09-30   1693\n",
      "24  2025-10-01   1578\n",
      "25  2025-10-02   1743\n",
      "26  2025-10-03   2112\n",
      "27  2025-10-04   2175\n"
     ]
    }
   ],
   "source": [
    "total_views = pd.read_csv(r\"..\\..\\data\\raw\\Totals.csv\")\n",
    "print(total_views)"
   ]
  },
  {
   "cell_type": "code",
   "execution_count": 52,
   "id": "ad411fca",
   "metadata": {},
   "outputs": [
    {
     "name": "stdout",
     "output_type": "stream",
     "text": [
      "['09072025', '09072025', '09072025', '09072025', '09072025', '09072025', '09072025', '09072025', '09072025', '09072025', '09072025', '09072025', '09072025', '09072025', '09072025', '09072025', '09072025', '09072025', '09072025', '09072025', '09072025', '09072025', '09072025', '09072025', '09072025', '09072025', '09072025', '09072025']\n"
     ]
    }
   ],
   "source": [
    "date_list = []\n",
    "for date in total_views.iloc[:, 0]:\n",
    "    date_list.append(date)\n",
    "print(date_list)"
   ]
  },
  {
   "cell_type": "code",
   "execution_count": 49,
   "id": "2d639943",
   "metadata": {},
   "outputs": [
    {
     "name": "stdout",
     "output_type": "stream",
     "text": [
      "09072025\n",
      "['09072025']\n",
      "09072025\n",
      "['09072025']\n",
      "09072025\n",
      "['09072025']\n",
      "09072025\n",
      "['09072025']\n",
      "09072025\n",
      "['09072025']\n",
      "09072025\n",
      "['09072025']\n",
      "09072025\n",
      "['09072025']\n",
      "09072025\n",
      "['09072025']\n",
      "09072025\n",
      "['09072025']\n",
      "09072025\n",
      "['09072025']\n",
      "09072025\n",
      "['09072025']\n",
      "09072025\n",
      "['09072025']\n",
      "09072025\n",
      "['09072025']\n",
      "09072025\n",
      "['09072025']\n",
      "09072025\n",
      "['09072025']\n",
      "09072025\n",
      "['09072025']\n",
      "09072025\n",
      "['09072025']\n",
      "09072025\n",
      "['09072025']\n",
      "09072025\n",
      "['09072025']\n",
      "09072025\n",
      "['09072025']\n",
      "09072025\n",
      "['09072025']\n",
      "09072025\n",
      "['09072025']\n",
      "09072025\n",
      "['09072025']\n",
      "09072025\n",
      "['09072025']\n",
      "09072025\n",
      "['09072025']\n",
      "09072025\n",
      "['09072025']\n",
      "09072025\n",
      "['09072025']\n",
      "09072025\n",
      "['09072025']\n"
     ]
    }
   ],
   "source": [
    "for i, date in enumerate(total_views.iloc[:, 0]):\n",
    "        str_date = str(date)\n",
    "        print(str_date)\n",
    "        parts_of_date = str_date.split(\"-\")\n",
    "        print(parts_of_date)\n",
    "        # new_date = parts_of_date[1] + parts_of_date[2] + parts_of_date[0]\n",
    "        # total_views.iloc[i, 0] = new_date"
   ]
  }
 ],
 "metadata": {
  "kernelspec": {
   "display_name": "Python 3",
   "language": "python",
   "name": "python3"
  },
  "language_info": {
   "codemirror_mode": {
    "name": "ipython",
    "version": 3
   },
   "file_extension": ".py",
   "mimetype": "text/x-python",
   "name": "python",
   "nbconvert_exporter": "python",
   "pygments_lexer": "ipython3",
   "version": "3.10.11"
  }
 },
 "nbformat": 4,
 "nbformat_minor": 5
}
